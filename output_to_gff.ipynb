{
 "cells": [
  {
   "cell_type": "code",
   "execution_count": 16,
   "metadata": {},
   "outputs": [],
   "source": [
    "###EGGNOG\n",
    "file= 'test_1.emapper.annotations'\n",
    "\n",
    "annotate_list = []\n",
    "with open(file, 'r') as fh:\n",
    "    for line in fh.readlines()[4:-3]:\n",
    "        line = line.split(\"\\t\")\n",
    "        query_name = line[0]\n",
    "        ##this is the ortholog score\n",
    "        ##if we want to include the e-value then we need line[2]\n",
    "        score = line[3]\n",
    "        #gives a brief description about the query \n",
    "        attributes = line[21]\n",
    "        #uery_name_list.append(query_name)\n",
    "        #core_list.append(score)\n",
    "        #ttributes_list.append(attributes)\n",
    "        annotate_list.append([query_name, score, attributes])\n",
    "        \n"
   ]
  },
  {
   "cell_type": "code",
   "execution_count": 7,
   "metadata": {},
   "outputs": [
    {
     "name": "stdout",
     "output_type": "stream",
     "text": [
      "['sp|P28377|RBL_ACTCH', 'sp|P0CC20|NU2C1_ACOAM', 'sp|A4QJD0|PSBL_AETCO', 'sp|Q8HVV8|NDHI_AMBTR', 'sp|Q7J199|PSBN_ACOCL', 'sp|A0A315|PSBA_COFAR', 'sp|Q4FGF2|ATPH_ACOAM', 'sp|Q70Y08|PSBD_AMBTC', 'sp|A9LYE6|RR7_ACOAM', 'sp|Q8S8X7|PSBC_ATRBE', 'sp|P56777|PSBB_ARATH', 'sp|P41339|ACTA_LIMPO', 'sp|O24171|PROFC_OLEEU', 'sp|Q06GS6|PSBI_PIPCE', 'sp|A8AQG0|FIS_CITK8', 'sp|Q6D137|RS18_PECAS', 'sp|Q7N9B3|RS7_PHOLL', 'sp|A1EA07|PSAB_AGRST', 'sp|Q7MYG3|RL5_PHOLL', 'sp|B4F0E2|ATPL_PROMH', 'sp|C5BHG0|RS21_EDWI9']\n"
     ]
    }
   ],
   "source": []
  },
  {
   "cell_type": "code",
   "execution_count": 17,
   "metadata": {},
   "outputs": [],
   "source": [
    "#EGGNOG\n",
    "file2 = 'eggnog_gff.txt'\n",
    "with open(file2, 'w+') as fh1:\n",
    "    fh1.write(\"##gff-version file\" + \"\\n\")\n",
    "    fh1.write(\"seqid\" + '\\t' + \"source\" +\"\\t\" +\"type\"+\"\\t\"+\"start\"+\"\\t\"+\"end\"+\"\\t\"+\"score\"+\"\\t\"+\"strand\"+\"\\t\"+\"phase\"+\"\\t\"+\"attributes\"+\"\\n\")\n",
    "    for x in annotate_list:\n",
    "        l = \"null\"+\"\\t\"+\"eggnog\"+\"\\t\"+ \"null\"+\"\\t\"+\"-\"+\"\\t\"+\"-\"+\"\\t\"+ str(x[1]) +\"\\t\"+\"NA\"+\"\\t\"+\"NA\"+\"\\t\"+ str(x[0]) +\";\"+ str(x[2])\n",
    "        fh1.write(l + \"\\n\" )\n",
    "    \n",
    "    \n",
    "    \n",
    "    "
   ]
  },
  {
   "cell_type": "code",
   "execution_count": 18,
   "metadata": {},
   "outputs": [],
   "source": [
    "#DEEPARG\n",
    "file= 'test_1.emapper.annotations'\n",
    "\n",
    "annotate_list1 = []\n",
    "with open(file, 'r') as fh:\n",
    "    for line in fh.readlines()[4:-3]:\n",
    "        line = line.split(\"\\t\")\n",
    "        #rint(line)\n",
    "        query_name = line[3]\n",
    "        #this is the e-value \n",
    "        score = line[10]\n",
    "        start = line[1]\n",
    "        end = line[2]\n",
    "        ARG_class_predicted = line[4]\n",
    "        \n",
    "        annotate_list1.append([query_name, score, start,end,ARG_class_predicted])\n",
    "        \n"
   ]
  },
  {
   "cell_type": "code",
   "execution_count": 19,
   "metadata": {},
   "outputs": [],
   "source": [
    "#DeepARG\n",
    "file2 = 'deeparg_gff.txt'\n",
    "with open(file2, 'w+') as fh1:\n",
    "    fh1.write(\"##gff-version file\" + \"\\n\")\n",
    "    fh1.write(\"seqid\" + '\\t' + \"source\" +\"\\t\" +\"type\"+\"\\t\"+\"start\"+\"\\t\"+\"end\"+\"\\t\"+\"score\"+\"\\t\"+\"strand\"+\"\\t\"+\"phase\"+\"\\t\"+\"attributes\"+ \"\\n\")\n",
    "    for x in annotate_list1:\n",
    "        l = \"null\"+\"\\t\"+\"deeparg\"+\"\\t\"+ \"null\"+\"\\t\"+ str(x[2])+\"\\t\"+str(x[3])+\"\\t\"+ str(x[1]) +\"\\t\"+\"NA\"+\"\\t\"+\"NA\"+\"\\t\"+ str(x[0]) +\";\"+ str(x[4])\n",
    "        fh1.write(l + \"\\n\" )"
   ]
  },
  {
   "cell_type": "code",
   "execution_count": null,
   "metadata": {},
   "outputs": [],
   "source": [
    "##if we have all of our outputs going into one directory \n",
    "#for all tools -- can use this piece of code to go through and pull out\n",
    "#the specific output files were gonna need and then turn them into gff3 format\n",
    "\n",
    "import os\n",
    "path = r'<path>\n",
    "os.listdir(path) \n",
    "##gives out a list\n",
    "\n",
    "for x in os.listdir(path):\n",
    "    ##for the eggnog output \n",
    "    if x .endswith(\"emapper.annotations\")"
   ]
  }
 ],
 "metadata": {
  "kernelspec": {
   "display_name": "Python 3",
   "language": "python",
   "name": "python3"
  },
  "language_info": {
   "codemirror_mode": {
    "name": "ipython",
    "version": 3
   },
   "file_extension": ".py",
   "mimetype": "text/x-python",
   "name": "python",
   "nbconvert_exporter": "python",
   "pygments_lexer": "ipython3",
   "version": "3.7.6"
  }
 },
 "nbformat": 4,
 "nbformat_minor": 4
}
